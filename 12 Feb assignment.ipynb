{
 "cells": [
  {
   "cell_type": "code",
   "execution_count": null,
   "id": "badb3c06-7a39-4576-a659-de9e1a73662c",
   "metadata": {},
   "outputs": [],
   "source": [
    "Q1. What is Exception in python? Write the difference between Exceptions and syntx errors ?\n",
    "Syntax errors and Exceptions. Errors are problems in a program due to which the program will stop \n",
    "the execution. On the other hand, exceptions are raised when some internal events \n",
    "occur which change the normal flow of the program.\n",
    "\n",
    "\n",
    "Q2. What happens when exception is not hndled? Explain with an example?\n",
    "When an exception occurred, if you don't handle it, the program terminates abruptly \n",
    "and the code past the line that caused the exception will not get executed"
   ]
  }
 ],
 "metadata": {
  "kernelspec": {
   "display_name": "Python 3 (ipykernel)",
   "language": "python",
   "name": "python3"
  },
  "language_info": {
   "codemirror_mode": {
    "name": "ipython",
    "version": 3
   },
   "file_extension": ".py",
   "mimetype": "text/x-python",
   "name": "python",
   "nbconvert_exporter": "python",
   "pygments_lexer": "ipython3",
   "version": "3.10.8"
  }
 },
 "nbformat": 4,
 "nbformat_minor": 5
}
